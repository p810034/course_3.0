{
 "cells": [
  {
   "cell_type": "markdown",
   "id": "c689efee",
   "metadata": {},
   "source": [
    "# Data Augmentation"
   ]
  },
  {
   "cell_type": "markdown",
   "id": "be522c12",
   "metadata": {},
   "source": [
    "## 本章節大綱\n",
    "* [讀取資料](#讀取資料)\n",
    "* [建立模型並訓練](#建立模型並訓練)\n",
    "* [亮度 Brightness](#亮度-Brightness)\n",
    "* [色調 Hue](#色調-Hue)\n",
    "* [飽和度 Saturation](#飽和度-Saturation)\n",
    "* [品質 Quality](品質-Quality)\n",
    "* [翻轉 Flip](翻轉-Flip)\n",
    "* [旋轉 Rotation](#旋轉-Rotation)\n",
    "* [裁剪 Crop](#裁剪-Crop)\n",
    "* [隨機 Zoom](#縮放-Zoom)\n",
    "* [隨機高度 RandomHeight](#隨機高度-RandomHeight)\n",
    "* [隨機寬度 RandomWidth](#隨機寬度-RandomWidth)\n",
    "* [隨機平移 RandomTranslation](#隨機平移-RandomTranslation)\n",
    "* [綜合](#整合)"
   ]
  },
  {
   "cell_type": "markdown",
   "id": "cc3ec907",
   "metadata": {},
   "source": [
    "## 匯入套件\n"
   ]
  },
  {
   "cell_type": "code",
   "execution_count": null,
   "id": "a3f00c04",
   "metadata": {},
   "outputs": [],
   "source": [
    "import pandas as pd\n",
    "import numpy as np\n",
    "import matplotlib.pyplot as plt\n",
    "import cv2\n",
    "import glob  # 讀取特定格式路徑\n",
    "\n",
    "import tensorflow as tf\n",
    "from tensorflow.keras import layers"
   ]
  },
  {
   "cell_type": "markdown",
   "id": "f21d0d12",
   "metadata": {},
   "source": [
    "## 讀取路徑"
   ]
  },
  {
   "cell_type": "code",
   "execution_count": null,
   "id": "dd2db179",
   "metadata": {},
   "outputs": [],
   "source": [
    "print(glob.glob('*'))  # 查看現在資料夾底下所有東西"
   ]
  },
  {
   "cell_type": "code",
   "execution_count": null,
   "id": "d95f4546",
   "metadata": {},
   "outputs": [],
   "source": [
    "print(glob.glob('cat_dog/*'))  # 查看 cat_dog 資料夾底下所有東西"
   ]
  },
  {
   "cell_type": "code",
   "execution_count": null,
   "id": "d18be727",
   "metadata": {},
   "outputs": [],
   "source": [
    "print(glob.glob('cat_dog/*/*')[:5])  # 查看 cat_dog 資料夾底下兩層所有東西"
   ]
  },
  {
   "cell_type": "code",
   "execution_count": null,
   "id": "9ed4c26b",
   "metadata": {},
   "outputs": [],
   "source": [
    "# 建立一個字典來存放路徑跟標籤資訊\n",
    "data_dict={'file_name': [], 'type': []}\n",
    "# 只拿 train 資料中的 .jpg 檔案\n",
    "for i in glob.glob('cat_dog/train/*.jpg'):\n",
    "    # i 會類似 cat_dog/train/cat.11996.jpg \n",
    "    data_dict['file_name'].append(i)\n",
    "    # 字串處理取出檔案名稱前三個字元來判斷類別\n",
    "    animal = i.split('/')[-1][:3]\n",
    "    if animal == 'cat': \n",
    "        data_dict['type'].append(0)\n",
    "    elif animal == 'dog':\n",
    "        data_dict['type'].append(1)\n",
    "    else:\n",
    "        print(i)"
   ]
  },
  {
   "cell_type": "code",
   "execution_count": null,
   "id": "8698cd49",
   "metadata": {},
   "outputs": [],
   "source": [
    "# 將字典轉換成 DataFrame\n",
    "datalist = pd.DataFrame(data_dict)"
   ]
  },
  {
   "cell_type": "code",
   "execution_count": null,
   "id": "86ce9907",
   "metadata": {},
   "outputs": [],
   "source": [
    "datalist.head()"
   ]
  },
  {
   "cell_type": "code",
   "execution_count": null,
   "id": "8f3c43f4",
   "metadata": {},
   "outputs": [],
   "source": [
    "import random\n",
    "def my_preprocess(image):\n",
    "    image = cv2.resize(image, (256, 256))\n",
    "    return image\n",
    "def data_generater() : \n",
    "    # 打亂資料順序\n",
    "    data = list(zip(datalist['file_name'],\n",
    "                    datalist['type']))\n",
    "    random.shuffle(data)\n",
    "    # 讀取 data 中的資料，將路徑中的圖片一張一張讀取\n",
    "    for path, label in data:\n",
    "        image = cv2.imread(path)\n",
    "        image = cv2.cvtColor(image, cv2.COLOR_BGR2RGB)# BGR2RGB \n",
    "        image = my_preprocess(image)\n",
    "        yield image, [1, 0] if label == 0 else [0, 1]"
   ]
  },
  {
   "cell_type": "code",
   "execution_count": null,
   "id": "6e40620e",
   "metadata": {},
   "outputs": [],
   "source": [
    "# 使用 tf.data.Dataset 製造一個 Dataset\n",
    "# output_signature : 輸出的格式\n",
    "dataset = tf.data.Dataset.from_generator(data_generater,\n",
    "                                         output_signature=( \n",
    "                                             tf.TensorSpec(shape=(256,256,3), dtype=tf.float32),\n",
    "                                             tf.TensorSpec(shape=(2), dtype=tf.float32)))"
   ]
  },
  {
   "cell_type": "code",
   "execution_count": null,
   "id": "2c718804",
   "metadata": {},
   "outputs": [],
   "source": [
    "# 畫圖\n",
    "def my_plot(datas):\n",
    "    plt.figure(figsize=(13, 7))\n",
    "    for i,data in enumerate(datas):\n",
    "        plt.subplot(2, 4, i+1)\n",
    "        plt.imshow(data[0].numpy().astype('uint8'))\n",
    "        plt.title(\"Label: {}\".format(data[1]), fontsize=16)\n",
    "    plt.show()\n",
    "my_plot(dataset.take(8))"
   ]
  },
  {
   "cell_type": "markdown",
   "id": "daace803",
   "metadata": {},
   "source": [
    "---\n",
    "# 資料擴增\n",
    "\n",
    "## 圖像數值調整使用 tf.image\n",
    "- 圖像數值：亮度、對比度、色調、飽和度、品質、翻轉\n",
    "\n",
    "## 圖像形狀調整使用 tf.keras.layers\n",
    "- 圖像形狀：剪裁、翻轉、旋轉、縮放、高度、寬度\n",
    "---"
   ]
  },
  {
   "cell_type": "markdown",
   "id": "81b02c22",
   "metadata": {},
   "source": [
    "* ## 亮度 Brightness\n",
    "\n",
    " * max_delta：調整的幅度，0 ~ 1"
   ]
  },
  {
   "cell_type": "code",
   "execution_count": null,
   "id": "4810c9c9",
   "metadata": {},
   "outputs": [],
   "source": [
    "def my_preprocess(image):\n",
    "    image = cv2.resize(image, (256, 256))\n",
    "    image = tf.image.random_brightness(image, \n",
    "                                       max_delta = 0.4)\n",
    "    image = tf.cast(image, tf.uint8)\n",
    "    return image"
   ]
  },
  {
   "cell_type": "code",
   "execution_count": null,
   "id": "6b9d1afd",
   "metadata": {},
   "outputs": [],
   "source": [
    "my_plot(dataset.take(8))"
   ]
  },
  {
   "cell_type": "markdown",
   "id": "3582c2aa",
   "metadata": {},
   "source": [
    "[(back...)](#本章節大綱)"
   ]
  },
  {
   "cell_type": "markdown",
   "id": "46bca99b",
   "metadata": {},
   "source": [
    "* ## 對比度 Contrast\n",
    "\n",
    " * lower：對比下限，0 ~ 1\n",
    " * upper：對比上限，0 ~ 1"
   ]
  },
  {
   "cell_type": "code",
   "execution_count": null,
   "id": "30e285a6",
   "metadata": {},
   "outputs": [],
   "source": [
    "def my_preprocess(image):\n",
    "    image = cv2.resize(image, (256, 256))\n",
    "    image = tf.image.random_contrast(image,\n",
    "                                     lower=0.2,\n",
    "                                     upper=0.7)\n",
    "    image = tf.cast(image, tf.uint8)\n",
    "    return image"
   ]
  },
  {
   "cell_type": "code",
   "execution_count": null,
   "id": "184df918",
   "metadata": {},
   "outputs": [],
   "source": [
    "my_plot(dataset.take(8))"
   ]
  },
  {
   "cell_type": "markdown",
   "id": "216d5939",
   "metadata": {},
   "source": [
    "* ## 色調 Hue\n",
    "\n",
    " * max_delta：調整範圍，0 ~ 1"
   ]
  },
  {
   "cell_type": "code",
   "execution_count": null,
   "id": "4796170f",
   "metadata": {},
   "outputs": [],
   "source": [
    "def my_preprocess(image):\n",
    "    image = cv2.resize(image, (256, 256))\n",
    "    image = tf.image.random_hue(image,\n",
    "                                max_delta=0.4)\n",
    "    image = tf.cast(image, tf.uint8)\n",
    "    return image"
   ]
  },
  {
   "cell_type": "code",
   "execution_count": null,
   "id": "10b0e024",
   "metadata": {},
   "outputs": [],
   "source": [
    "my_plot(dataset.take(8))"
   ]
  },
  {
   "cell_type": "markdown",
   "id": "38d88bea",
   "metadata": {},
   "source": [
    "[(back...)](#本章節大綱)"
   ]
  },
  {
   "cell_type": "markdown",
   "id": "62a0fc6e",
   "metadata": {},
   "source": [
    "* ## 飽和度 Saturation\n",
    "\n",
    " * lower：飽和度下限\n",
    " * upper：飽和度上限"
   ]
  },
  {
   "cell_type": "code",
   "execution_count": null,
   "id": "7d0c7f55",
   "metadata": {},
   "outputs": [],
   "source": [
    "def my_preprocess(image):\n",
    "    image = cv2.resize(image, (256, 256))\n",
    "    image = tf.image.random_saturation(image,\n",
    "                                       lower=2,\n",
    "                                       upper=5)\n",
    "    image = tf.cast(image, tf.uint8)\n",
    "    return image"
   ]
  },
  {
   "cell_type": "code",
   "execution_count": null,
   "id": "8bafeeb9",
   "metadata": {},
   "outputs": [],
   "source": [
    "my_plot(dataset.take(8))"
   ]
  },
  {
   "cell_type": "markdown",
   "id": "faf77919",
   "metadata": {},
   "source": [
    "[(back...)](#本章節大綱)"
   ]
  },
  {
   "cell_type": "markdown",
   "id": "c15c3efe",
   "metadata": {},
   "source": [
    "* ## 品質 Quality\n",
    " * min_jpeg_quality：品質下限，0 ~ 100\n",
    " * max_jpeg_quality：品質上限，0 ~ 100"
   ]
  },
  {
   "cell_type": "code",
   "execution_count": null,
   "id": "da692d57",
   "metadata": {},
   "outputs": [],
   "source": [
    "def my_preprocess(image):\n",
    "    image = cv2.resize(image, (256, 256))\n",
    "    image = tf.image.random_jpeg_quality(image,\n",
    "                                         min_jpeg_quality=0,\n",
    "                                         max_jpeg_quality=100)\n",
    "    image = tf.cast(image, tf.uint8)\n",
    "    return image"
   ]
  },
  {
   "cell_type": "code",
   "execution_count": null,
   "id": "bdffe7fd",
   "metadata": {},
   "outputs": [],
   "source": [
    "my_plot(dataset.take(8))"
   ]
  },
  {
   "cell_type": "markdown",
   "id": "765c5226",
   "metadata": {},
   "source": [
    "[(back...)](#本章節大綱)"
   ]
  },
  {
   "cell_type": "markdown",
   "id": "4c2b51e5",
   "metadata": {},
   "source": [
    "* ## 翻轉 Flip\n",
    "\n",
    " * random_flip_left_right：隨機水平翻轉\n",
    " * random_flip_up_down：隨機垂直翻轉\n"
   ]
  },
  {
   "cell_type": "code",
   "execution_count": null,
   "id": "a4bbbe7f",
   "metadata": {},
   "outputs": [],
   "source": [
    "def my_preprocess(image):\n",
    "    image = cv2.resize(image, (256, 256))\n",
    "    image = tf.image.random_flip_left_right(image)\n",
    "    image = tf.image.random_flip_up_down(image)\n",
    "    image = tf.cast(image, tf.uint8)\n",
    "    return image"
   ]
  },
  {
   "cell_type": "code",
   "execution_count": null,
   "id": "e421fa13",
   "metadata": {},
   "outputs": [],
   "source": [
    "my_plot(dataset.take(8))"
   ]
  },
  {
   "cell_type": "markdown",
   "id": "df6afd43",
   "metadata": {},
   "source": [
    "* ## 翻轉2 Flip\n",
    "\n",
    " * horizontal_and_vertical：隨機水平垂直翻轉\n",
    " * vertical：隨機垂直翻轉\n",
    " * horizontal：隨機水平翻轉\n"
   ]
  },
  {
   "cell_type": "code",
   "execution_count": null,
   "id": "c0e9fa95",
   "metadata": {},
   "outputs": [],
   "source": [
    "my_data_augmentation = tf.keras.Sequential(\n",
    "    [\n",
    "        layers.RandomFlip(\"horizontal_and_vertical\"),\n",
    "    ]\n",
    ")\n"
   ]
  },
  {
   "cell_type": "code",
   "execution_count": null,
   "id": "13f1c5a5",
   "metadata": {},
   "outputs": [],
   "source": [
    "augment_dataset = dataset.map(lambda x, y: (my_data_augmentation(x), y))\n",
    "my_plot(augment_dataset.take(8))"
   ]
  },
  {
   "cell_type": "markdown",
   "id": "cca4c87d",
   "metadata": {},
   "source": [
    "[(back...)](#本章節大綱)"
   ]
  },
  {
   "cell_type": "markdown",
   "id": "da7c2f92",
   "metadata": {},
   "source": [
    "* ## 旋轉 Rotation\n",
    "\n",
    " * factor 旋轉角度，(-0.2, 0.3) 代表從-20% * 2pi ~ 30% * 2pi 的區間縮放 \n",
    " * fill_mode：超過邊界填補方法，有 'nearest', 'constant', 'reflect', 'wrap'，四種方法可選擇 (default：'reflect')\n",
    " \n",
    "    - reflect: (d c b a | a b c d | d c b a) The input is extended by reflecting about the edge of the last pixel.\n",
    "    - constant: (k k k k | a b c d | k k k k) The input is extended by filling all values beyond the edge with the same constant value k = 0.\n",
    "    - wrap: (a b c d | a b c d | a b c d) The input is extended by wrapping around to the opposite edge.\n",
    "    - nearest: (a a a a | a b c d | d d d d) The input is extended by the nearest pixel.\n"
   ]
  },
  {
   "cell_type": "code",
   "execution_count": null,
   "id": "d462b6d2",
   "metadata": {},
   "outputs": [],
   "source": [
    "my_data_augmentation = tf.keras.Sequential(\n",
    "    [\n",
    "        layers.RandomRotation(factor=(-0.3, 0.3),\n",
    "                              fill_mode=\"reflect\")\n",
    "    ]\n",
    ")"
   ]
  },
  {
   "cell_type": "code",
   "execution_count": null,
   "id": "1420c978",
   "metadata": {},
   "outputs": [],
   "source": [
    "augment_dataset = dataset.map(lambda x, y: (my_data_augmentation(x), y))\n",
    "my_plot(augment_dataset.take(8))"
   ]
  },
  {
   "cell_type": "markdown",
   "id": "51376684",
   "metadata": {},
   "source": [
    "[(back...)](#本章節大綱)"
   ]
  },
  {
   "cell_type": "markdown",
   "id": "303a9498",
   "metadata": {},
   "source": [
    "* ## 裁剪 Crop\n",
    "\n",
    " * height：裁減高度 \n",
    " * width：裁減寬度\n"
   ]
  },
  {
   "cell_type": "code",
   "execution_count": null,
   "id": "a8de80ed",
   "metadata": {},
   "outputs": [],
   "source": [
    "my_data_augmentation = tf.keras.Sequential(\n",
    "    [\n",
    "        layers.RandomCrop(height=100,\n",
    "                          width=100)\n",
    "    ]\n",
    ")"
   ]
  },
  {
   "cell_type": "code",
   "execution_count": null,
   "id": "41373c19",
   "metadata": {},
   "outputs": [],
   "source": [
    "augment_dataset = dataset.map(lambda x, y: (my_data_augmentation(x), y))\n",
    "my_plot(augment_dataset.take(8))"
   ]
  },
  {
   "cell_type": "markdown",
   "id": "ecab21b9",
   "metadata": {},
   "source": [
    "[(back...)](#本章節大綱)"
   ]
  },
  {
   "cell_type": "markdown",
   "id": "28413e4f",
   "metadata": {},
   "source": [
    "* ## 縮放 Zoom\n",
    " * height_factor：高度調整比例，(-0.1, 0.1) 代表從-10% ~ 10%的區間縮放\n",
    " * width_factor：寬度調整比例，(-0.1, 0.1) 代表從-10% ~ 10%的區間縮放\n",
    " * fill_mode：超過邊界填補方法，有 'nearest', 'constant', 'reflect', 'wrap'，四種方法可選擇 (default：'reflect')\n",
    "     - reflect: (d c b a | a b c d | d c b a) The input is extended by reflecting about the edge of the last pixel.\n",
    "     - constant: (k k k k | a b c d | k k k k) The input is extended by filling all values beyond the edge with the same constant value k = 0.\n",
    "     - wrap: (a b c d | a b c d | a b c d) The input is extended by wrapping around to the opposite edge.\n",
    "     - nearest: (a a a a | a b c d | d d d d) The input is extended by the nearest pixel."
   ]
  },
  {
   "cell_type": "code",
   "execution_count": null,
   "id": "86bae28a",
   "metadata": {},
   "outputs": [],
   "source": [
    "my_data_augmentation = tf.keras.Sequential(\n",
    "    [\n",
    "        layers.RandomZoom(height_factor=(-0.5, 0.5),\n",
    "                          width_factor=(-0.5, 0.5),\n",
    "                          fill_mode=\"nearest\")                          \n",
    "    ]\n",
    ")"
   ]
  },
  {
   "cell_type": "code",
   "execution_count": null,
   "id": "4965cf14",
   "metadata": {},
   "outputs": [],
   "source": [
    "augment_dataset = dataset.map(lambda x, y: (my_data_augmentation(x), y))\n",
    "my_plot(augment_dataset.take(8))"
   ]
  },
  {
   "cell_type": "markdown",
   "id": "eeb0f703",
   "metadata": {},
   "source": [
    "[(back...)](#本章節大綱)"
   ]
  },
  {
   "cell_type": "markdown",
   "id": "3b45b0f4",
   "metadata": {},
   "source": [
    "* ## 隨機高度 RandomHeight\n",
    "\n",
    " * factor：調整比例，(-0.1, 0.1) 代表從-10% ~ 10%的區間縮放\n",
    " * interpolation：填補方法\n"
   ]
  },
  {
   "cell_type": "code",
   "execution_count": null,
   "id": "30fe7533",
   "metadata": {},
   "outputs": [],
   "source": [
    "my_data_augmentation = tf.keras.Sequential(\n",
    "    [\n",
    "        layers.RandomHeight(factor=(-0.8, 0.8),\n",
    "                            interpolation='bilinear')\n",
    "    ]\n",
    ")"
   ]
  },
  {
   "cell_type": "code",
   "execution_count": null,
   "id": "1b1f8b98",
   "metadata": {},
   "outputs": [],
   "source": [
    "augment_dataset = dataset.map(lambda x, y: (my_data_augmentation(x), y))\n",
    "my_plot(augment_dataset.take(8))"
   ]
  },
  {
   "cell_type": "markdown",
   "id": "6cf46034",
   "metadata": {},
   "source": [
    "[(back...)](#本章節大綱)"
   ]
  },
  {
   "cell_type": "markdown",
   "id": "5c28ff93",
   "metadata": {},
   "source": [
    "* ## 隨機寬度 RandomWidth\n",
    "\n",
    " * factor：調整比例，(-0.1, 0.1) 代表從-10% ~ 10%的區間縮放\n"
   ]
  },
  {
   "cell_type": "code",
   "execution_count": null,
   "id": "a3bbed5e",
   "metadata": {},
   "outputs": [],
   "source": [
    "my_data_augmentation = tf.keras.Sequential(\n",
    "    [\n",
    "        layers.RandomWidth(factor=(-0.8, 0.8),\n",
    "                            interpolation='bilinear')\n",
    "    ]\n",
    ")"
   ]
  },
  {
   "cell_type": "code",
   "execution_count": null,
   "id": "08b5dc33",
   "metadata": {},
   "outputs": [],
   "source": [
    "augment_dataset = dataset.map(lambda x, y: (my_data_augmentation(x), y))\n",
    "my_plot(augment_dataset.take(8))"
   ]
  },
  {
   "cell_type": "markdown",
   "id": "7820a2f2",
   "metadata": {},
   "source": [
    "[(back...)](#本章節大綱)"
   ]
  },
  {
   "cell_type": "markdown",
   "id": "67567dac",
   "metadata": {},
   "source": [
    "* ## 隨機平移 RandomTranslation\n",
    " * height_factor：高度調整比例，(-0.1, 0.1) 代表從-10% ~ 10%的區間平移\n",
    " * width_factor：寬度調整比例，(-0.1, 0.1) 代表從-10% ~ 10%的區間平移\n",
    " * fill_mode：超過邊界填補方法，有 'nearest', 'constant', 'reflect', 'wrap'，四種方法可選擇 (default：'reflect')\n",
    "     - reflect: (d c b a | a b c d | d c b a) The input is extended by reflecting about the edge of the last pixel.\n",
    "     - constant: (k k k k | a b c d | k k k k) The input is extended by filling all values beyond the edge with the same constant value k = 0.\n",
    "     - wrap: (a b c d | a b c d | a b c d) The input is extended by wrapping around to the opposite edge.\n",
    "     - nearest: (a a a a | a b c d | d d d d) The input is extended by the nearest pixel."
   ]
  },
  {
   "cell_type": "code",
   "execution_count": null,
   "id": "dd1c5ed2",
   "metadata": {},
   "outputs": [],
   "source": [
    "my_data_augmentation = tf.keras.Sequential(\n",
    "    [\n",
    "        layers.RandomTranslation(height_factor=(-0.3, 0.3),\n",
    "                                 width_factor=(-0.3, 0.3),\n",
    "                                 fill_mode=\"reflect\")\n",
    "    ]\n",
    ")"
   ]
  },
  {
   "cell_type": "code",
   "execution_count": null,
   "id": "98e67538",
   "metadata": {},
   "outputs": [],
   "source": [
    "augment_dataset = dataset.map(lambda x, y: (my_data_augmentation(x), y))\n",
    "my_plot(augment_dataset.take(8))"
   ]
  },
  {
   "cell_type": "markdown",
   "id": "3e7b198d",
   "metadata": {},
   "source": [
    "[(back...)](#本章節大綱)"
   ]
  },
  {
   "cell_type": "markdown",
   "id": "bd6d4909",
   "metadata": {},
   "source": [
    "# 整合"
   ]
  },
  {
   "cell_type": "code",
   "execution_count": null,
   "id": "c0b03236",
   "metadata": {},
   "outputs": [],
   "source": [
    "def my_preprocess(image):\n",
    "    image = cv2.resize(image, (256, 256))\n",
    "    # 亮度\n",
    "    image = tf.image.random_brightness(image, \n",
    "                                       max_delta=0.2)\n",
    "    # 對比度\n",
    "    image = tf.image.random_contrast(image,\n",
    "                                     lower=0.5,\n",
    "                                     upper=1)\n",
    "    # 色調\n",
    "    image = tf.image.random_hue(image,\n",
    "                                max_delta=0.4)\n",
    "    # 飽和度\n",
    "    image = tf.image.random_saturation(image,\n",
    "                                       lower=1,\n",
    "                                       upper=5)\n",
    "    # 品質\n",
    "    image = tf.image.random_jpeg_quality(image,\n",
    "                                         min_jpeg_quality=20,\n",
    "                                         max_jpeg_quality=100)\n",
    "    image = tf.cast(image, tf.uint8)\n",
    "    return image"
   ]
  },
  {
   "cell_type": "code",
   "execution_count": null,
   "id": "cd7643d5",
   "metadata": {},
   "outputs": [],
   "source": [
    "my_data_augmentation = tf.keras.Sequential(\n",
    "    [\n",
    "        # 旋轉\n",
    "        layers.RandomFlip(\"horizontal_and_vertical\"),\n",
    "        # 裁剪\n",
    "        layers.RandomCrop(height = 230,\n",
    "                          width = 230),\n",
    "        # 隨機高度\n",
    "        layers.RandomHeight(factor = (-0.3, 0.3),\n",
    "                            interpolation = 'bilinear'),\n",
    "        # 隨機寬度\n",
    "        layers.RandomWidth(factor = (-0.3, 0.3),\n",
    "                            interpolation = 'bilinear'),\n",
    "        # 隨機縮放\n",
    "        layers.RandomZoom(height_factor = (-0.3, 0.3),\n",
    "                          width_factor = (-0.3, 0.3),\n",
    "                          fill_mode = \"nearest\"),\n",
    "        # 隨機平移\n",
    "        layers.RandomTranslation(height_factor = (-0.3, 0.3),\n",
    "                          width_factor = (-0.3, 0.3),\n",
    "                          fill_mode = \"reflect\"),           \n",
    "    ]\n",
    ")"
   ]
  },
  {
   "cell_type": "code",
   "execution_count": null,
   "id": "38be7d30",
   "metadata": {},
   "outputs": [],
   "source": [
    "augment_dataset = dataset.map(lambda x, y: (my_data_augmentation(x), y))\n",
    "my_plot(augment_dataset.take(8))"
   ]
  },
  {
   "cell_type": "code",
   "execution_count": null,
   "id": "8301b79c",
   "metadata": {},
   "outputs": [],
   "source": []
  }
 ],
 "metadata": {
  "kernelspec": {
   "display_name": "Python 3 (ipykernel)",
   "language": "python",
   "name": "python3"
  },
  "language_info": {
   "codemirror_mode": {
    "name": "ipython",
    "version": 3
   },
   "file_extension": ".py",
   "mimetype": "text/x-python",
   "name": "python",
   "nbconvert_exporter": "python",
   "pygments_lexer": "ipython3",
   "version": "3.7.12"
  }
 },
 "nbformat": 4,
 "nbformat_minor": 5
}
